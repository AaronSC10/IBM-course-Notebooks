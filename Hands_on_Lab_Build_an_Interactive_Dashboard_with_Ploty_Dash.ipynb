{
 "cells": [
  {
   "cell_type": "code",
   "execution_count": 1,
   "id": "Sd3xLQs9DVst",
   "metadata": {
    "collapsed": true,
    "id": "Sd3xLQs9DVst",
    "jupyter": {
     "outputs_hidden": true
    },
    "tags": []
   },
   "outputs": [
    {
     "name": "stdout",
     "output_type": "stream",
     "text": [
      "Requirement already satisfied: dash in /Users/aaron/opt/anaconda3/lib/python3.9/site-packages (2.13.0)\n",
      "Requirement already satisfied: requests in /Users/aaron/opt/anaconda3/lib/python3.9/site-packages (from dash) (2.28.1)\n",
      "Requirement already satisfied: ansi2html in /Users/aaron/opt/anaconda3/lib/python3.9/site-packages (from dash) (1.8.0)\n",
      "Requirement already satisfied: dash-table==5.0.0 in /Users/aaron/opt/anaconda3/lib/python3.9/site-packages (from dash) (5.0.0)\n",
      "Requirement already satisfied: dash-core-components==2.0.0 in /Users/aaron/opt/anaconda3/lib/python3.9/site-packages (from dash) (2.0.0)\n",
      "Requirement already satisfied: retrying in /Users/aaron/opt/anaconda3/lib/python3.9/site-packages (from dash) (1.3.4)\n",
      "Requirement already satisfied: Flask<2.3.0,>=1.0.4 in /Users/aaron/opt/anaconda3/lib/python3.9/site-packages (from dash) (1.1.2)\n",
      "Requirement already satisfied: nest-asyncio in /Users/aaron/opt/anaconda3/lib/python3.9/site-packages (from dash) (1.5.5)\n",
      "Requirement already satisfied: typing-extensions>=4.1.1 in /Users/aaron/opt/anaconda3/lib/python3.9/site-packages (from dash) (4.3.0)\n",
      "Requirement already satisfied: plotly>=5.0.0 in /Users/aaron/opt/anaconda3/lib/python3.9/site-packages (from dash) (5.9.0)\n",
      "Requirement already satisfied: setuptools in /Users/aaron/opt/anaconda3/lib/python3.9/site-packages (from dash) (63.4.1)\n",
      "Requirement already satisfied: Werkzeug<2.3.0 in /Users/aaron/opt/anaconda3/lib/python3.9/site-packages (from dash) (2.0.3)\n",
      "Requirement already satisfied: dash-html-components==2.0.0 in /Users/aaron/opt/anaconda3/lib/python3.9/site-packages (from dash) (2.0.0)\n",
      "Requirement already satisfied: Jinja2>=2.10.1 in /Users/aaron/opt/anaconda3/lib/python3.9/site-packages (from Flask<2.3.0,>=1.0.4->dash) (2.11.3)\n",
      "Requirement already satisfied: itsdangerous>=0.24 in /Users/aaron/opt/anaconda3/lib/python3.9/site-packages (from Flask<2.3.0,>=1.0.4->dash) (2.0.1)\n",
      "Requirement already satisfied: click>=5.1 in /Users/aaron/opt/anaconda3/lib/python3.9/site-packages (from Flask<2.3.0,>=1.0.4->dash) (8.0.4)\n",
      "Requirement already satisfied: tenacity>=6.2.0 in /Users/aaron/opt/anaconda3/lib/python3.9/site-packages (from plotly>=5.0.0->dash) (8.0.1)\n",
      "Requirement already satisfied: idna<4,>=2.5 in /Users/aaron/opt/anaconda3/lib/python3.9/site-packages (from requests->dash) (3.3)\n",
      "Requirement already satisfied: urllib3<1.27,>=1.21.1 in /Users/aaron/opt/anaconda3/lib/python3.9/site-packages (from requests->dash) (1.26.11)\n",
      "Requirement already satisfied: certifi>=2017.4.17 in /Users/aaron/opt/anaconda3/lib/python3.9/site-packages (from requests->dash) (2022.9.24)\n",
      "Requirement already satisfied: charset-normalizer<3,>=2 in /Users/aaron/opt/anaconda3/lib/python3.9/site-packages (from requests->dash) (2.0.4)\n",
      "Requirement already satisfied: six>=1.7.0 in /Users/aaron/opt/anaconda3/lib/python3.9/site-packages (from retrying->dash) (1.16.0)\n",
      "Requirement already satisfied: MarkupSafe>=0.23 in /Users/aaron/opt/anaconda3/lib/python3.9/site-packages (from Jinja2>=2.10.1->Flask<2.3.0,>=1.0.4->dash) (2.0.1)\n"
     ]
    }
   ],
   "source": [
    "!pip install dash"
   ]
  },
  {
   "cell_type": "code",
   "execution_count": 2,
   "id": "bec8dd3a-a92b-4830-b73f-e8c7a8d0bd7c",
   "metadata": {
    "colab": {
     "base_uri": "https://localhost:8080/",
     "height": 156
    },
    "collapsed": true,
    "id": "bec8dd3a-a92b-4830-b73f-e8c7a8d0bd7c",
    "jupyter": {
     "outputs_hidden": true
    },
    "outputId": "ba00d192-f686-45c0-f84c-359c5fab28e8",
    "tags": []
   },
   "outputs": [
    {
     "name": "stderr",
     "output_type": "stream",
     "text": [
      "/var/folders/cb/cb9s8tk55nn5qv_jlpbxklc00000gp/T/ipykernel_2882/3011574429.py:5: UserWarning: \n",
      "The dash_core_components package is deprecated. Please replace\n",
      "`import dash_core_components as dcc` with `from dash import dcc`\n",
      "  import dash_core_components as dcc\n",
      "/var/folders/cb/cb9s8tk55nn5qv_jlpbxklc00000gp/T/ipykernel_2882/3011574429.py:6: UserWarning: \n",
      "The dash_html_components package is deprecated. Please replace\n",
      "`import dash_html_components as html` with `from dash import html`\n",
      "  import dash_html_components as html\n"
     ]
    }
   ],
   "source": [
    "import pandas as pd\n",
    "import requests\n",
    "from io import StringIO\n",
    "import dash\n",
    "import dash_core_components as dcc\n",
    "import dash_html_components as html\n",
    "import webbrowser\n",
    "from dash.dependencies import Input, Output"
   ]
  },
  {
   "cell_type": "code",
   "execution_count": 3,
   "id": "d0af3617-bd13-47f0-b2e2-2d00fb398e67",
   "metadata": {
    "id": "d0af3617-bd13-47f0-b2e2-2d00fb398e67"
   },
   "outputs": [],
   "source": [
    "url = \"https://cf-courses-data.s3.us.cloud-object-storage.appdomain.cloud/IBM-DS0321EN-SkillsNetwork/datasets/spacex_launch_dash.csv\"\n",
    "response = requests.get(url)\n",
    "\n",
    "# Check if the request was successful\n",
    "if response.status_code == 200:\n",
    "    data = StringIO(response.text)\n",
    "    df = pd.read_csv(data)\n",
    "    df.head() # print first 5 rows of the dataframe\n",
    "else:\n",
    "    print(\"Failed to fetch the data.\")"
   ]
  },
  {
   "cell_type": "code",
   "execution_count": 4,
   "id": "b6f49e6e-8a6b-41ae-aa3e-9dd6885c02e8",
   "metadata": {
    "colab": {
     "base_uri": "https://localhost:8080/",
     "height": 206
    },
    "id": "b6f49e6e-8a6b-41ae-aa3e-9dd6885c02e8",
    "outputId": "18ec77c3-0f25-4141-c7f3-8fa2dd165b50"
   },
   "outputs": [
    {
     "data": {
      "text/html": [
       "<div>\n",
       "<style scoped>\n",
       "    .dataframe tbody tr th:only-of-type {\n",
       "        vertical-align: middle;\n",
       "    }\n",
       "\n",
       "    .dataframe tbody tr th {\n",
       "        vertical-align: top;\n",
       "    }\n",
       "\n",
       "    .dataframe thead th {\n",
       "        text-align: right;\n",
       "    }\n",
       "</style>\n",
       "<table border=\"1\" class=\"dataframe\">\n",
       "  <thead>\n",
       "    <tr style=\"text-align: right;\">\n",
       "      <th></th>\n",
       "      <th>Unnamed: 0</th>\n",
       "      <th>Flight Number</th>\n",
       "      <th>Launch Site</th>\n",
       "      <th>class</th>\n",
       "      <th>Payload Mass (kg)</th>\n",
       "      <th>Booster Version</th>\n",
       "      <th>Booster Version Category</th>\n",
       "    </tr>\n",
       "  </thead>\n",
       "  <tbody>\n",
       "    <tr>\n",
       "      <th>0</th>\n",
       "      <td>0</td>\n",
       "      <td>1</td>\n",
       "      <td>CCAFS LC-40</td>\n",
       "      <td>0</td>\n",
       "      <td>0.0</td>\n",
       "      <td>F9 v1.0  B0003</td>\n",
       "      <td>v1.0</td>\n",
       "    </tr>\n",
       "    <tr>\n",
       "      <th>1</th>\n",
       "      <td>1</td>\n",
       "      <td>2</td>\n",
       "      <td>CCAFS LC-40</td>\n",
       "      <td>0</td>\n",
       "      <td>0.0</td>\n",
       "      <td>F9 v1.0  B0004</td>\n",
       "      <td>v1.0</td>\n",
       "    </tr>\n",
       "    <tr>\n",
       "      <th>2</th>\n",
       "      <td>2</td>\n",
       "      <td>3</td>\n",
       "      <td>CCAFS LC-40</td>\n",
       "      <td>0</td>\n",
       "      <td>525.0</td>\n",
       "      <td>F9 v1.0  B0005</td>\n",
       "      <td>v1.0</td>\n",
       "    </tr>\n",
       "    <tr>\n",
       "      <th>3</th>\n",
       "      <td>3</td>\n",
       "      <td>4</td>\n",
       "      <td>CCAFS LC-40</td>\n",
       "      <td>0</td>\n",
       "      <td>500.0</td>\n",
       "      <td>F9 v1.0  B0006</td>\n",
       "      <td>v1.0</td>\n",
       "    </tr>\n",
       "    <tr>\n",
       "      <th>4</th>\n",
       "      <td>4</td>\n",
       "      <td>5</td>\n",
       "      <td>CCAFS LC-40</td>\n",
       "      <td>0</td>\n",
       "      <td>677.0</td>\n",
       "      <td>F9 v1.0  B0007</td>\n",
       "      <td>v1.0</td>\n",
       "    </tr>\n",
       "  </tbody>\n",
       "</table>\n",
       "</div>"
      ],
      "text/plain": [
       "   Unnamed: 0  Flight Number  Launch Site  class  Payload Mass (kg)  \\\n",
       "0           0              1  CCAFS LC-40      0                0.0   \n",
       "1           1              2  CCAFS LC-40      0                0.0   \n",
       "2           2              3  CCAFS LC-40      0              525.0   \n",
       "3           3              4  CCAFS LC-40      0              500.0   \n",
       "4           4              5  CCAFS LC-40      0              677.0   \n",
       "\n",
       "  Booster Version Booster Version Category  \n",
       "0  F9 v1.0  B0003                     v1.0  \n",
       "1  F9 v1.0  B0004                     v1.0  \n",
       "2  F9 v1.0  B0005                     v1.0  \n",
       "3  F9 v1.0  B0006                     v1.0  \n",
       "4  F9 v1.0  B0007                     v1.0  "
      ]
     },
     "execution_count": 4,
     "metadata": {},
     "output_type": "execute_result"
    }
   ],
   "source": [
    "df.head()"
   ]
  },
  {
   "cell_type": "code",
   "execution_count": 5,
   "id": "9457c6f0-06dc-44bd-9e6c-a26c09686748",
   "metadata": {
    "id": "9457c6f0-06dc-44bd-9e6c-a26c09686748",
    "tags": []
   },
   "outputs": [],
   "source": [
    "# Create a Dash app\n",
    "app = dash.Dash()\n",
    "\n",
    "# Get unique Launch Sites for dropdown options\n",
    "launch_sites = df['Launch Site'].unique()\n",
    "launch_options = [{'label': site, 'value': site} for site in launch_sites]\n",
    "\n",
    "app.layout = html.Div([\n",
    "    html.H1(\"SpaceX Launches Dashboard\"),\n",
    "    html.Label(\"Select a Launch Site:\"),\n",
    "    dcc.Dropdown(\n",
    "        id='launch-site-dropdown',\n",
    "        options=launch_options,\n",
    "        value=launch_sites[0]  # Default value\n",
    "    ),\n",
    "    # Additional components can be added here as needed\n",
    "])"
   ]
  },
  {
   "cell_type": "code",
   "execution_count": 6,
   "id": "d2eb5ac9-2505-4c80-b370-0d8b9ced0184",
   "metadata": {
    "id": "d2eb5ac9-2505-4c80-b370-0d8b9ced0184"
   },
   "outputs": [],
   "source": [
    "app.layout = html.Div([\n",
    "    html.H1(\"SpaceX Launches Dashboard\"),\n",
    "    html.Label(\"Select a Launch Site:\"),\n",
    "    dcc.Dropdown(\n",
    "        id='launch-site-dropdown',\n",
    "        options=launch_options,\n",
    "        value=launch_sites[0]  # Default value\n",
    "    ),\n",
    "    html.Div(dcc.Graph(id='success-pie-chart')),\n",
    "])"
   ]
  },
  {
   "cell_type": "code",
   "execution_count": 7,
   "id": "8f505228-5f2f-415f-acb5-96f37a36ea6b",
   "metadata": {
    "id": "8f505228-5f2f-415f-acb5-96f37a36ea6b"
   },
   "outputs": [],
   "source": [
    "from dash.dependencies import Input, Output\n",
    "\n",
    "@app.callback(\n",
    "    Output('success-pie-chart', 'figure'),\n",
    "    [Input('launch-site-dropdown', 'value')]\n",
    ")\n",
    "def update_pie_chart(selected_site):\n",
    "    # Filter dataframe based on selected site\n",
    "    filtered_df = df[df['Launch Site'] == selected_site]\n",
    "\n",
    "    # Compute success and failure rates\n",
    "    success_rate = sum(filtered_df['class']) / len(filtered_df)\n",
    "    failure_rate = 1 - success_rate\n",
    "\n",
    "    # Construct the pie chart\n",
    "    fig = {\n",
    "        'data': [{\n",
    "            'labels': ['Success', 'Failure'],\n",
    "            'values': [success_rate, failure_rate],\n",
    "            'type': 'pie',\n",
    "            'hole': .3\n",
    "        }],\n",
    "        'layout': {\n",
    "            'title': f'Success Rate for {selected_site}'\n",
    "        }\n",
    "    }\n",
    "    return fig"
   ]
  },
  {
   "cell_type": "code",
   "execution_count": 8,
   "id": "f187273e-e48c-4894-93de-02e08d25c91f",
   "metadata": {
    "colab": {
     "base_uri": "https://localhost:8080/",
     "height": 671
    },
    "id": "f187273e-e48c-4894-93de-02e08d25c91f",
    "outputId": "12bf9330-57be-4139-e33e-a3879fe5410a"
   },
   "outputs": [
    {
     "data": {
      "text/html": [
       "\n",
       "        <iframe\n",
       "            width=\"100%\"\n",
       "            height=\"650\"\n",
       "            src=\"http://127.0.0.1:8050/\"\n",
       "            frameborder=\"0\"\n",
       "            allowfullscreen\n",
       "            \n",
       "        ></iframe>\n",
       "        "
      ],
      "text/plain": [
       "<IPython.lib.display.IFrame at 0x7fe8d2fa6190>"
      ]
     },
     "metadata": {},
     "output_type": "display_data"
    }
   ],
   "source": [
    "app.run_server(mode=\"inline\")"
   ]
  },
  {
   "cell_type": "code",
   "execution_count": 9,
   "id": "fb582d23-caaf-46cb-bc0f-2c9ddcf25afc",
   "metadata": {
    "id": "fb582d23-caaf-46cb-bc0f-2c9ddcf25afc"
   },
   "outputs": [],
   "source": [
    "#shows all the ports being used\n",
    "#!lsof -i :8050"
   ]
  },
  {
   "cell_type": "code",
   "execution_count": 10,
   "id": "9bfa3b47-e080-4cf7-a83a-95b463873301",
   "metadata": {
    "id": "9bfa3b47-e080-4cf7-a83a-95b463873301"
   },
   "outputs": [],
   "source": [
    "#We kill the ports used before, this way we can use them again\n",
    "#!kill -9 4339"
   ]
  },
  {
   "cell_type": "code",
   "execution_count": null,
   "id": "00caccb3-483b-4fc8-89a6-a6aed00e91d6",
   "metadata": {
    "id": "00caccb3-483b-4fc8-89a6-a6aed00e91d6"
   },
   "outputs": [],
   "source": []
  },
  {
   "cell_type": "code",
   "execution_count": null,
   "id": "f3c4aa4a-c42b-401f-b6e0-23f315351a1d",
   "metadata": {
    "id": "f3c4aa4a-c42b-401f-b6e0-23f315351a1d"
   },
   "outputs": [],
   "source": []
  }
 ],
 "metadata": {
  "colab": {
   "provenance": []
  },
  "kernelspec": {
   "display_name": "Python 3 (ipykernel)",
   "language": "python",
   "name": "python3"
  },
  "language_info": {
   "codemirror_mode": {
    "name": "ipython",
    "version": 3
   },
   "file_extension": ".py",
   "mimetype": "text/x-python",
   "name": "python",
   "nbconvert_exporter": "python",
   "pygments_lexer": "ipython3",
   "version": "3.9.13"
  }
 },
 "nbformat": 4,
 "nbformat_minor": 5
}
